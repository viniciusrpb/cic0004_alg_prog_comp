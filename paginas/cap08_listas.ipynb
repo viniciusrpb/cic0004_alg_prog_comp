{
  "nbformat": 4,
  "nbformat_minor": 0,
  "metadata": {
    "colab": {
      "name": "cap08_listas.ipynb",
      "provenance": [],
      "authorship_tag": "ABX9TyNGkL5mpBoCb+Al8nHzifao",
      "include_colab_link": true
    },
    "kernelspec": {
      "name": "python3",
      "display_name": "Python 3"
    },
    "language_info": {
      "name": "python"
    }
  },
  "cells": [
    {
      "cell_type": "markdown",
      "metadata": {
        "id": "view-in-github",
        "colab_type": "text"
      },
      "source": [
        "<a href=\"https://colab.research.google.com/github/viniciusrpb/cic0004_alg_prog_comp/blob/main/paginas/cap08_listas.ipynb\" target=\"_parent\"><img src=\"https://colab.research.google.com/assets/colab-badge.svg\" alt=\"Open In Colab\"/></a>"
      ]
    },
    {
      "cell_type": "markdown",
      "source": [
        "# Capítulo 8\n",
        "\n",
        "Como inicializar listas:"
      ],
      "metadata": {
        "id": "S6YR7hD8cy0U"
      }
    },
    {
      "cell_type": "code",
      "source": [
        "lista1 = []"
      ],
      "metadata": {
        "id": "sNBBB2jbyJOx"
      },
      "execution_count": 2,
      "outputs": []
    },
    {
      "cell_type": "code",
      "source": [
        "lista2 = [5,6,7,8,9]"
      ],
      "metadata": {
        "id": "4XG_q2xzyNx-"
      },
      "execution_count": 3,
      "outputs": []
    },
    {
      "cell_type": "markdown",
      "source": [
        ""
      ],
      "metadata": {
        "id": "Bk-h8ALb0Aoe"
      }
    },
    {
      "cell_type": "code",
      "source": [
        "len(lista1)"
      ],
      "metadata": {
        "colab": {
          "base_uri": "https://localhost:8080/"
        },
        "id": "YMNS-P6K0Aug",
        "outputId": "c3c353ac-796e-4395-bd9c-11187b450e39"
      },
      "execution_count": 4,
      "outputs": [
        {
          "output_type": "execute_result",
          "data": {
            "text/plain": [
              "0"
            ]
          },
          "metadata": {},
          "execution_count": 4
        }
      ]
    },
    {
      "cell_type": "code",
      "source": [
        "len(lista2)"
      ],
      "metadata": {
        "colab": {
          "base_uri": "https://localhost:8080/"
        },
        "id": "pXevxC8M0EAH",
        "outputId": "b30118a8-8ab9-4a90-d524-11055d0d7832"
      },
      "execution_count": 5,
      "outputs": [
        {
          "output_type": "execute_result",
          "data": {
            "text/plain": [
              "5"
            ]
          },
          "metadata": {},
          "execution_count": 5
        }
      ]
    },
    {
      "cell_type": "markdown",
      "source": [
        "No caso de uma lista vazia, utilize o comando \"append\" para inserir um elemento ao final da lista"
      ],
      "metadata": {
        "id": "SJvSkB1ZyW_p"
      }
    },
    {
      "cell_type": "code",
      "source": [
        "lista1.append(1)"
      ],
      "metadata": {
        "id": "-t9-hB9lyYnB"
      },
      "execution_count": 6,
      "outputs": []
    },
    {
      "cell_type": "code",
      "source": [
        "lista1"
      ],
      "metadata": {
        "colab": {
          "base_uri": "https://localhost:8080/"
        },
        "id": "GwrtxHkIybTJ",
        "outputId": "fbe4dee7-4d8e-447d-9e32-acb595956dce"
      },
      "execution_count": 7,
      "outputs": [
        {
          "output_type": "execute_result",
          "data": {
            "text/plain": [
              "[1]"
            ]
          },
          "metadata": {},
          "execution_count": 7
        }
      ]
    },
    {
      "cell_type": "code",
      "source": [
        "lista1.append(5)\n"
      ],
      "metadata": {
        "id": "aDmchLMcydLg"
      },
      "execution_count": 8,
      "outputs": []
    },
    {
      "cell_type": "code",
      "source": [
        "lista1"
      ],
      "metadata": {
        "colab": {
          "base_uri": "https://localhost:8080/"
        },
        "id": "GCP2p-bFyfGZ",
        "outputId": "eb410593-3a23-485f-d486-d5af948b76ae"
      },
      "execution_count": 9,
      "outputs": [
        {
          "output_type": "execute_result",
          "data": {
            "text/plain": [
              "[1, 5]"
            ]
          },
          "metadata": {},
          "execution_count": 9
        }
      ]
    },
    {
      "cell_type": "code",
      "source": [
        "lista1.append(\"GAP\")"
      ],
      "metadata": {
        "id": "tJ7_YEB3yoOr"
      },
      "execution_count": 10,
      "outputs": []
    },
    {
      "cell_type": "code",
      "source": [
        "lista1"
      ],
      "metadata": {
        "colab": {
          "base_uri": "https://localhost:8080/"
        },
        "id": "Ar4NNYwGyrfj",
        "outputId": "5875cf35-3913-4c9b-eb55-58b7d7eb6090"
      },
      "execution_count": 11,
      "outputs": [
        {
          "output_type": "execute_result",
          "data": {
            "text/plain": [
              "[1, 5, 'GAP']"
            ]
          },
          "metadata": {},
          "execution_count": 11
        }
      ]
    },
    {
      "cell_type": "code",
      "source": [
        "lista1.append([6,7,8])"
      ],
      "metadata": {
        "id": "I8xNNecSytXD"
      },
      "execution_count": 12,
      "outputs": []
    },
    {
      "cell_type": "code",
      "source": [
        "lista1"
      ],
      "metadata": {
        "colab": {
          "base_uri": "https://localhost:8080/"
        },
        "id": "Ty4df7sdyw6e",
        "outputId": "5bfdefd8-7578-4eb6-8686-232bf26450ba"
      },
      "execution_count": 13,
      "outputs": [
        {
          "output_type": "execute_result",
          "data": {
            "text/plain": [
              "[1, 5, 'GAP', [6, 7, 8]]"
            ]
          },
          "metadata": {},
          "execution_count": 13
        }
      ]
    },
    {
      "cell_type": "code",
      "source": [
        "lista1.append([[2],[5,6]])"
      ],
      "metadata": {
        "id": "-DV3JpVryzig"
      },
      "execution_count": 14,
      "outputs": []
    },
    {
      "cell_type": "code",
      "source": [
        "lista1"
      ],
      "metadata": {
        "colab": {
          "base_uri": "https://localhost:8080/"
        },
        "id": "bJRXN-ply4MS",
        "outputId": "0ae4ed02-6544-4dfc-ba10-37296c32f233"
      },
      "execution_count": 15,
      "outputs": [
        {
          "output_type": "execute_result",
          "data": {
            "text/plain": [
              "[1, 5, 'GAP', [6, 7, 8], [[2], [5, 6]]]"
            ]
          },
          "metadata": {},
          "execution_count": 15
        }
      ]
    },
    {
      "cell_type": "markdown",
      "source": [
        "Parte 2\n",
        "\n",
        "Leitura de $N$ números inteiros separados por espaço em branco e armazená-los em uma lista"
      ],
      "metadata": {
        "id": "dKqFdS97gHSk"
      }
    },
    {
      "cell_type": "code",
      "source": [
        "lista = [int(x) for x in input().split()]"
      ],
      "metadata": {
        "colab": {
          "base_uri": "https://localhost:8080/"
        },
        "id": "D5TI_2mdgJDJ",
        "outputId": "f53547b9-5faf-4f1c-9435-f5b631e3776c"
      },
      "execution_count": 1,
      "outputs": [
        {
          "name": "stdout",
          "output_type": "stream",
          "text": [
            "7 4 5 2 1\n"
          ]
        }
      ]
    },
    {
      "cell_type": "code",
      "source": [
        "lista"
      ],
      "metadata": {
        "colab": {
          "base_uri": "https://localhost:8080/"
        },
        "id": "gqPC-sk5ghdt",
        "outputId": "052558f1-fecf-4ac5-e380-8a91ea5a7097"
      },
      "execution_count": 18,
      "outputs": [
        {
          "output_type": "execute_result",
          "data": {
            "text/plain": [
              "[7, 4, 5, 2, 1]"
            ]
          },
          "metadata": {},
          "execution_count": 18
        }
      ]
    },
    {
      "cell_type": "code",
      "source": [
        "lista[2]"
      ],
      "metadata": {
        "colab": {
          "base_uri": "https://localhost:8080/"
        },
        "id": "Mcs0KG16glSj",
        "outputId": "b4d5aa7f-41a8-47f8-ef9f-ba904d776213"
      },
      "execution_count": 19,
      "outputs": [
        {
          "output_type": "execute_result",
          "data": {
            "text/plain": [
              "5"
            ]
          },
          "metadata": {},
          "execution_count": 19
        }
      ]
    },
    {
      "cell_type": "markdown",
      "source": [
        "Inicializar uma lista composta apenas por $N$ números zeros"
      ],
      "metadata": {
        "id": "1a7nTSBGguVM"
      }
    },
    {
      "cell_type": "code",
      "source": [
        "n = 5\n",
        "histograma = [0]*n\n",
        "histograma"
      ],
      "metadata": {
        "colab": {
          "base_uri": "https://localhost:8080/"
        },
        "id": "Pm0oElVUgoK7",
        "outputId": "bc27a600-9e89-4f69-a0d5-6bbbe7cf08aa"
      },
      "execution_count": 20,
      "outputs": [
        {
          "output_type": "execute_result",
          "data": {
            "text/plain": [
              "[0, 0, 0, 0, 0]"
            ]
          },
          "metadata": {},
          "execution_count": 20
        }
      ]
    },
    {
      "cell_type": "markdown",
      "source": [
        "podemos fazer também..."
      ],
      "metadata": {
        "id": "lLz9DtnBg_Bc"
      }
    },
    {
      "cell_type": "code",
      "source": [
        "lista3 = [1,3,4]*3\n",
        "lista3"
      ],
      "metadata": {
        "colab": {
          "base_uri": "https://localhost:8080/"
        },
        "id": "7VKtFT7dhAlz",
        "outputId": "4d97549f-5174-49c1-96a0-014d1ccd6420"
      },
      "execution_count": 21,
      "outputs": [
        {
          "output_type": "execute_result",
          "data": {
            "text/plain": [
              "[1, 3, 4, 1, 3, 4, 1, 3, 4]"
            ]
          },
          "metadata": {},
          "execution_count": 21
        }
      ]
    },
    {
      "cell_type": "markdown",
      "source": [
        "Função que imprime uma matriz"
      ],
      "metadata": {
        "id": "0yj4DlJQh27r"
      }
    },
    {
      "cell_type": "code",
      "source": [
        "def imprimeMatriz(m):\n",
        "\n",
        "    string = \"\"\n",
        "\n",
        "    for i in range(0,len(m)): # 2\n",
        "        linha = \"\"\n",
        "        for j in range(0,len(m[i])-1):\n",
        "            linha+=str(m[i][j])+\" \"\n",
        "        linha+=str(m[i][j+1])+\"\\n\"\n",
        "        string+=linha\n",
        "\n",
        "    return string      \n"
      ],
      "metadata": {
        "id": "K_n54ctQjBoN"
      },
      "execution_count": 46,
      "outputs": []
    },
    {
      "cell_type": "code",
      "source": [
        "matriz = [[1,2],[3,4]]\n",
        "matriz"
      ],
      "metadata": {
        "colab": {
          "base_uri": "https://localhost:8080/"
        },
        "id": "TNz0P8y4htC2",
        "outputId": "ff3a96b0-7e4f-4e4f-b4cb-e55590cab704"
      },
      "execution_count": 26,
      "outputs": [
        {
          "output_type": "execute_result",
          "data": {
            "text/plain": [
              "[[1, 2], [3, 4]]"
            ]
          },
          "metadata": {},
          "execution_count": 26
        }
      ]
    },
    {
      "cell_type": "code",
      "source": [
        "matriz2 = [[5,7,9,8],[-3,0,4,1]]\n",
        "matriz2"
      ],
      "metadata": {
        "colab": {
          "base_uri": "https://localhost:8080/"
        },
        "id": "ECUf_rB7jnu2",
        "outputId": "42a4a527-21fd-44d9-b4ef-59535d6e0f14"
      },
      "execution_count": 58,
      "outputs": [
        {
          "output_type": "execute_result",
          "data": {
            "text/plain": [
              "[[5, 7, 9, 8], [-3, 0, 4, 1]]"
            ]
          },
          "metadata": {},
          "execution_count": 58
        }
      ]
    },
    {
      "cell_type": "code",
      "source": [
        "list_listas = [[1,2,6],[3,4]]"
      ],
      "metadata": {
        "id": "VxC6pqQjnIdN"
      },
      "execution_count": 48,
      "outputs": []
    },
    {
      "cell_type": "code",
      "source": [
        "len(matriz2)"
      ],
      "metadata": {
        "colab": {
          "base_uri": "https://localhost:8080/"
        },
        "id": "LDMSZDwejyIF",
        "outputId": "876263ec-3225-46da-8f15-8c0d155f1380"
      },
      "execution_count": 29,
      "outputs": [
        {
          "output_type": "execute_result",
          "data": {
            "text/plain": [
              "2"
            ]
          },
          "metadata": {},
          "execution_count": 29
        }
      ]
    },
    {
      "cell_type": "code",
      "source": [
        "matriz2[0]"
      ],
      "metadata": {
        "colab": {
          "base_uri": "https://localhost:8080/"
        },
        "id": "lOxqaHh9j1DE",
        "outputId": "d98f10a8-ae11-4640-b5f3-169c0c2340ed"
      },
      "execution_count": 31,
      "outputs": [
        {
          "output_type": "execute_result",
          "data": {
            "text/plain": [
              "[5, 7, 9, 8]"
            ]
          },
          "metadata": {},
          "execution_count": 31
        }
      ]
    },
    {
      "cell_type": "code",
      "source": [
        "print(imprimeMatriz(matriz2))"
      ],
      "metadata": {
        "colab": {
          "base_uri": "https://localhost:8080/"
        },
        "id": "_RXRgHU4j7Hn",
        "outputId": "01c3f64e-7fa1-4676-a8a1-1697fcdbeb29"
      },
      "execution_count": 47,
      "outputs": [
        {
          "output_type": "stream",
          "name": "stdout",
          "text": [
            "5 7 9 8\n",
            "-3 0 4 1\n",
            "\n"
          ]
        }
      ]
    },
    {
      "cell_type": "code",
      "source": [
        "print(imprimeMatriz(list_listas))"
      ],
      "metadata": {
        "colab": {
          "base_uri": "https://localhost:8080/"
        },
        "id": "paYw_OS-nUyK",
        "outputId": "96469419-bee5-4abf-89eb-5de25f5fc5b2"
      },
      "execution_count": 49,
      "outputs": [
        {
          "output_type": "stream",
          "name": "stdout",
          "text": [
            "1 2 6\n",
            "3 4\n",
            "\n"
          ]
        }
      ]
    },
    {
      "cell_type": "code",
      "source": [
        "len(matriz2[0])"
      ],
      "metadata": {
        "colab": {
          "base_uri": "https://localhost:8080/"
        },
        "id": "MF4V2ngnkK1T",
        "outputId": "a3113306-7f09-44be-eb38-c37abe7647b1"
      },
      "execution_count": 35,
      "outputs": [
        {
          "output_type": "execute_result",
          "data": {
            "text/plain": [
              "4"
            ]
          },
          "metadata": {},
          "execution_count": 35
        }
      ]
    },
    {
      "cell_type": "code",
      "source": [
        "for k in range(0,3):\n",
        "    print(k)\n",
        "print(k+1)"
      ],
      "metadata": {
        "colab": {
          "base_uri": "https://localhost:8080/"
        },
        "id": "iwLUDwhCmnXr",
        "outputId": "6d294d87-cf54-49ee-b0d2-2fe721838ad0"
      },
      "execution_count": 45,
      "outputs": [
        {
          "output_type": "stream",
          "name": "stdout",
          "text": [
            "0\n",
            "1\n",
            "2\n",
            "3\n"
          ]
        }
      ]
    },
    {
      "cell_type": "code",
      "source": [
        "matriz2.append([10,14,17,12])"
      ],
      "metadata": {
        "id": "tH2gnerLnh9t"
      },
      "execution_count": 51,
      "outputs": []
    },
    {
      "cell_type": "code",
      "source": [
        "print(imprimeMatriz(matriz2))"
      ],
      "metadata": {
        "colab": {
          "base_uri": "https://localhost:8080/"
        },
        "id": "Axmo7Kw5np9h",
        "outputId": "c87e31d3-2a24-4ee5-dac7-92afaa235b69"
      },
      "execution_count": 53,
      "outputs": [
        {
          "output_type": "stream",
          "name": "stdout",
          "text": [
            "5 7 9 8\n",
            "-3 0 4 1\n",
            "10 14 17 12\n",
            "\n"
          ]
        }
      ]
    },
    {
      "cell_type": "code",
      "source": [
        "matriz2.append([25,18,5,0])"
      ],
      "metadata": {
        "id": "Q_T-kdBBnydd"
      },
      "execution_count": 54,
      "outputs": []
    },
    {
      "cell_type": "code",
      "source": [
        "print(imprimeMatriz(matriz2))"
      ],
      "metadata": {
        "colab": {
          "base_uri": "https://localhost:8080/"
        },
        "id": "RA69Pbavn2iO",
        "outputId": "3a636682-c73f-4f26-d7b2-dfb7196a2e55"
      },
      "execution_count": 55,
      "outputs": [
        {
          "output_type": "stream",
          "name": "stdout",
          "text": [
            "5 7 9 8\n",
            "-3 0 4 1\n",
            "10 14 17 12\n",
            "25 18 5 0\n",
            "\n"
          ]
        }
      ]
    },
    {
      "cell_type": "code",
      "source": [
        "matriz2.append([13,14,55,78,7])"
      ],
      "metadata": {
        "id": "Q4_yX0DMn9J2"
      },
      "execution_count": 56,
      "outputs": []
    },
    {
      "cell_type": "code",
      "source": [
        "print(imprimeMatriz(matriz2))"
      ],
      "metadata": {
        "colab": {
          "base_uri": "https://localhost:8080/"
        },
        "id": "mdCqBf8NoGNt",
        "outputId": "3196985f-176d-4c41-db55-9f1c82d67812"
      },
      "execution_count": 57,
      "outputs": [
        {
          "output_type": "stream",
          "name": "stdout",
          "text": [
            "5 7 9 8\n",
            "-3 0 4 1\n",
            "10 14 17 12\n",
            "25 18 5 0\n",
            "13 14 55 78 7\n",
            "\n"
          ]
        }
      ]
    },
    {
      "cell_type": "code",
      "source": [
        "matriz2 = [[5,7,9,8],[-3,0,4,1]]"
      ],
      "metadata": {
        "id": "G7FQnWJLoPMZ"
      },
      "execution_count": 59,
      "outputs": []
    },
    {
      "cell_type": "code",
      "source": [
        "matriz2[0].append(2)"
      ],
      "metadata": {
        "id": "sodIZYrVoQ1v"
      },
      "execution_count": 61,
      "outputs": []
    },
    {
      "cell_type": "code",
      "source": [
        "print(imprimeMatriz(matriz2))"
      ],
      "metadata": {
        "colab": {
          "base_uri": "https://localhost:8080/"
        },
        "id": "aLOQ7BAtoeeP",
        "outputId": "091cc32e-619c-42c7-ca8a-a0a55e6f6841"
      },
      "execution_count": 62,
      "outputs": [
        {
          "output_type": "stream",
          "name": "stdout",
          "text": [
            "5 7 9 8 2\n",
            "-3 0 4 1\n",
            "\n"
          ]
        }
      ]
    },
    {
      "cell_type": "code",
      "source": [
        "string = \"banana\"\n",
        "'a' in string"
      ],
      "metadata": {
        "colab": {
          "base_uri": "https://localhost:8080/"
        },
        "id": "TKYBzUKQpsx-",
        "outputId": "55696725-a99c-4107-fabd-61b7a812d238"
      },
      "execution_count": 64,
      "outputs": [
        {
          "output_type": "execute_result",
          "data": {
            "text/plain": [
              "True"
            ]
          },
          "metadata": {},
          "execution_count": 64
        }
      ]
    },
    {
      "cell_type": "code",
      "source": [
        "lista = []"
      ],
      "metadata": {
        "id": "LKNOPO6Pp_oz"
      },
      "execution_count": 67,
      "outputs": []
    },
    {
      "cell_type": "code",
      "source": [
        "lista.append(1)\n",
        "lista.append('A')\n",
        "lista.append([1,2])\n",
        "lista.append([4,[5,6]])"
      ],
      "metadata": {
        "id": "p1uPavZ4qBSb"
      },
      "execution_count": 68,
      "outputs": []
    },
    {
      "cell_type": "code",
      "source": [
        "lista"
      ],
      "metadata": {
        "colab": {
          "base_uri": "https://localhost:8080/"
        },
        "id": "J4jMnp8AqJ4H",
        "outputId": "9becbc63-bc71-44ef-8433-b822760375f0"
      },
      "execution_count": 69,
      "outputs": [
        {
          "output_type": "execute_result",
          "data": {
            "text/plain": [
              "[1, 'A', [1, 2], [4, [5, 6]]]"
            ]
          },
          "metadata": {},
          "execution_count": 69
        }
      ]
    },
    {
      "cell_type": "code",
      "source": [
        "def recursiva(lista):\n",
        "\n",
        "    for obj in lista:\n",
        "        if type(obj) == list:\n",
        "            recursiva(obj)\n",
        "        else:\n",
        "            # faz alguma coisa com esse objeto\n",
        "            print(obj)"
      ],
      "metadata": {
        "id": "NfzihZJpqhHn"
      },
      "execution_count": 76,
      "outputs": []
    },
    {
      "cell_type": "code",
      "source": [
        "recursiva(lista)"
      ],
      "metadata": {
        "colab": {
          "base_uri": "https://localhost:8080/"
        },
        "id": "KOtGDf-CrUXi",
        "outputId": "10527a43-6991-4cc7-d10d-e2fe564d63ee"
      },
      "execution_count": 77,
      "outputs": [
        {
          "output_type": "stream",
          "name": "stdout",
          "text": [
            "1\n",
            "A\n",
            "1\n",
            "2\n",
            "4\n",
            "5\n",
            "6\n"
          ]
        }
      ]
    },
    {
      "cell_type": "markdown",
      "source": [
        "### Métodos de Ordenação de Listas\n",
        "\n",
        "Cuidado, uma vez que a lista é ordenada, não há volta!"
      ],
      "metadata": {
        "id": "iRADTespvh4o"
      }
    },
    {
      "cell_type": "code",
      "source": [
        "lista = [7,3,9,11,5]\n",
        "lista"
      ],
      "metadata": {
        "colab": {
          "base_uri": "https://localhost:8080/"
        },
        "id": "gvULseHovgqf",
        "outputId": "e97d2d50-3b86-4e75-bca4-dfaa7cbd1e2d"
      },
      "execution_count": 80,
      "outputs": [
        {
          "output_type": "execute_result",
          "data": {
            "text/plain": [
              "[7, 3, 9, 11, 5]"
            ]
          },
          "metadata": {},
          "execution_count": 80
        }
      ]
    },
    {
      "cell_type": "markdown",
      "source": [
        "ordenação crescente"
      ],
      "metadata": {
        "id": "8fAdWVc_vpEJ"
      }
    },
    {
      "cell_type": "code",
      "source": [
        "lista.sort()\n",
        "lista"
      ],
      "metadata": {
        "colab": {
          "base_uri": "https://localhost:8080/"
        },
        "id": "To3awabwvoln",
        "outputId": "4f34b83d-3d1f-4481-9698-b2df830bf85b"
      },
      "execution_count": 81,
      "outputs": [
        {
          "output_type": "execute_result",
          "data": {
            "text/plain": [
              "[3, 5, 7, 9, 11]"
            ]
          },
          "metadata": {},
          "execution_count": 81
        }
      ]
    },
    {
      "cell_type": "markdown",
      "source": [
        "ordenação decrescente"
      ],
      "metadata": {
        "id": "FwPdaRJSv0_N"
      }
    },
    {
      "cell_type": "code",
      "source": [
        "lista.sort(reverse=True)\n",
        "lista"
      ],
      "metadata": {
        "colab": {
          "base_uri": "https://localhost:8080/"
        },
        "id": "Ul3IiTVAv2m5",
        "outputId": "fea51938-eb67-4925-fdbc-78e3d85fa2f0"
      },
      "execution_count": 83,
      "outputs": [
        {
          "output_type": "execute_result",
          "data": {
            "text/plain": [
              "[11, 9, 7, 5, 3]"
            ]
          },
          "metadata": {},
          "execution_count": 83
        }
      ]
    },
    {
      "cell_type": "markdown",
      "source": [
        "### Bruxaria\n",
        "\n",
        "Muito cuidado ao manusear listas"
      ],
      "metadata": {
        "id": "ZD_92FQ11Gr9"
      }
    },
    {
      "cell_type": "code",
      "source": [
        "matriz = []\n",
        "lista = [int(x) for x in input().split()]\n",
        "matriz.append(lista)\n",
        "lista = [int(x) for x in input().split()]\n",
        "matriz.append(lista)"
      ],
      "metadata": {
        "colab": {
          "base_uri": "https://localhost:8080/"
        },
        "id": "qE2xTXgM1LJY",
        "outputId": "93029eb2-2d50-4dbb-f454-bf3981c4991b"
      },
      "execution_count": 84,
      "outputs": [
        {
          "name": "stdout",
          "output_type": "stream",
          "text": [
            "1 2\n",
            "3 4\n"
          ]
        }
      ]
    },
    {
      "cell_type": "code",
      "source": [
        "matriz"
      ],
      "metadata": {
        "colab": {
          "base_uri": "https://localhost:8080/"
        },
        "id": "szHnymws1djc",
        "outputId": "30fe3a39-ceff-4417-8416-7c5d779b9141"
      },
      "execution_count": 85,
      "outputs": [
        {
          "output_type": "execute_result",
          "data": {
            "text/plain": [
              "[[1, 2], [3, 4]]"
            ]
          },
          "metadata": {},
          "execution_count": 85
        }
      ]
    },
    {
      "cell_type": "code",
      "source": [
        "lista"
      ],
      "metadata": {
        "colab": {
          "base_uri": "https://localhost:8080/"
        },
        "id": "nOhItpCE1g61",
        "outputId": "a31c5cbf-4a7f-4524-a155-510e78f87c1d"
      },
      "execution_count": 86,
      "outputs": [
        {
          "output_type": "execute_result",
          "data": {
            "text/plain": [
              "[3, 4]"
            ]
          },
          "metadata": {},
          "execution_count": 86
        }
      ]
    },
    {
      "cell_type": "code",
      "source": [
        "lista[1] = 5"
      ],
      "metadata": {
        "id": "cJ7TUU7L1kOx"
      },
      "execution_count": 87,
      "outputs": []
    },
    {
      "cell_type": "code",
      "source": [
        "lista"
      ],
      "metadata": {
        "colab": {
          "base_uri": "https://localhost:8080/"
        },
        "id": "zZRbMaLr1nGX",
        "outputId": "674bb058-48f5-4a34-d3d7-643fc8f55933"
      },
      "execution_count": 88,
      "outputs": [
        {
          "output_type": "execute_result",
          "data": {
            "text/plain": [
              "[3, 5]"
            ]
          },
          "metadata": {},
          "execution_count": 88
        }
      ]
    },
    {
      "cell_type": "code",
      "source": [
        "matriz"
      ],
      "metadata": {
        "colab": {
          "base_uri": "https://localhost:8080/"
        },
        "id": "n1WMs6ww1qUQ",
        "outputId": "a139b190-020e-456c-b315-4e18aff12f93"
      },
      "execution_count": 89,
      "outputs": [
        {
          "output_type": "execute_result",
          "data": {
            "text/plain": [
              "[[1, 2], [3, 5]]"
            ]
          },
          "metadata": {},
          "execution_count": 89
        }
      ]
    },
    {
      "cell_type": "code",
      "source": [
        "lista[0] = 8"
      ],
      "metadata": {
        "id": "Bp9PVXsC1sQ2"
      },
      "execution_count": 90,
      "outputs": []
    },
    {
      "cell_type": "code",
      "source": [
        "matriz"
      ],
      "metadata": {
        "colab": {
          "base_uri": "https://localhost:8080/"
        },
        "id": "I4Fn4Riy4BbS",
        "outputId": "178b0264-9394-4a5a-ef0e-99b6fca51863"
      },
      "execution_count": 91,
      "outputs": [
        {
          "output_type": "execute_result",
          "data": {
            "text/plain": [
              "[[1, 2], [8, 5]]"
            ]
          },
          "metadata": {},
          "execution_count": 91
        }
      ]
    },
    {
      "cell_type": "code",
      "source": [
        "lista = [int(x) for x in input().split()]\n"
      ],
      "metadata": {
        "colab": {
          "base_uri": "https://localhost:8080/"
        },
        "id": "mGyNB0Hn4FcC",
        "outputId": "bd7c0a22-8e2a-41d1-cbd9-30f559621ae8"
      },
      "execution_count": 93,
      "outputs": [
        {
          "name": "stdout",
          "output_type": "stream",
          "text": [
            "12 45\n"
          ]
        }
      ]
    },
    {
      "cell_type": "code",
      "source": [
        "matriz.append(lista)"
      ],
      "metadata": {
        "id": "jVcDQzA14aV9"
      },
      "execution_count": 94,
      "outputs": []
    },
    {
      "cell_type": "code",
      "source": [
        "matriz"
      ],
      "metadata": {
        "colab": {
          "base_uri": "https://localhost:8080/"
        },
        "id": "9eQhWA4J4ch0",
        "outputId": "116567f9-acb3-4ade-a9f8-4a3458fb9f64"
      },
      "execution_count": 95,
      "outputs": [
        {
          "output_type": "execute_result",
          "data": {
            "text/plain": [
              "[[1, 2], [8, 5], [12, 45]]"
            ]
          },
          "metadata": {},
          "execution_count": 95
        }
      ]
    },
    {
      "cell_type": "code",
      "source": [
        "lista = []\n"
      ],
      "metadata": {
        "id": "uH9-rPg14fXS"
      },
      "execution_count": 96,
      "outputs": []
    },
    {
      "cell_type": "code",
      "source": [
        "lista[1] = 66"
      ],
      "metadata": {
        "colab": {
          "base_uri": "https://localhost:8080/",
          "height": 166
        },
        "id": "y-B59LWA4hon",
        "outputId": "bfbef9b1-069e-4987-a534-39da804c15d1"
      },
      "execution_count": 97,
      "outputs": [
        {
          "output_type": "error",
          "ename": "IndexError",
          "evalue": "ignored",
          "traceback": [
            "\u001b[0;31m---------------------------------------------------------------------------\u001b[0m",
            "\u001b[0;31mIndexError\u001b[0m                                Traceback (most recent call last)",
            "\u001b[0;32m<ipython-input-97-3fa6f5826a93>\u001b[0m in \u001b[0;36m<module>\u001b[0;34m()\u001b[0m\n\u001b[0;32m----> 1\u001b[0;31m \u001b[0mlista\u001b[0m\u001b[0;34m[\u001b[0m\u001b[0;36m1\u001b[0m\u001b[0;34m]\u001b[0m \u001b[0;34m=\u001b[0m \u001b[0;36m66\u001b[0m\u001b[0;34m\u001b[0m\u001b[0;34m\u001b[0m\u001b[0m\n\u001b[0m",
            "\u001b[0;31mIndexError\u001b[0m: list assignment index out of range"
          ]
        }
      ]
    }
  ]
}