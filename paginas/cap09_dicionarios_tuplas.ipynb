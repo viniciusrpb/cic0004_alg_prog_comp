{
  "nbformat": 4,
  "nbformat_minor": 0,
  "metadata": {
    "colab": {
      "name": "cap09_dicionarios_tuplas.ipynb",
      "provenance": [],
      "collapsed_sections": [],
      "authorship_tag": "ABX9TyM/7qnxfJyOOuaqXOdkMGdB",
      "include_colab_link": true
    },
    "kernelspec": {
      "name": "python3",
      "display_name": "Python 3"
    },
    "language_info": {
      "name": "python"
    }
  },
  "cells": [
    {
      "cell_type": "markdown",
      "metadata": {
        "id": "view-in-github",
        "colab_type": "text"
      },
      "source": [
        "<a href=\"https://colab.research.google.com/github/viniciusrpb/cic0004_alg_prog_comp/blob/main/paginas/cap09_dicionarios_tuplas.ipynb\" target=\"_parent\"><img src=\"https://colab.research.google.com/assets/colab-badge.svg\" alt=\"Open In Colab\"/></a>"
      ]
    },
    {
      "cell_type": "markdown",
      "source": [
        "# Capítulo 9 - Dicionário e Tuplas\n",
        "\n",
        "## 9.1. Dicionários\n",
        "\n",
        "\n",
        "Como criar um dicionário"
      ],
      "metadata": {
        "id": "JHFEF0t0lCLw"
      }
    },
    {
      "cell_type": "code",
      "execution_count": null,
      "metadata": {
        "id": "JZCUNoPYk_Bv"
      },
      "outputs": [],
      "source": [
        "dic = {}"
      ]
    },
    {
      "cell_type": "code",
      "source": [
        "dic2 = {'A':65,'B':66,'C':67}"
      ],
      "metadata": {
        "id": "MiDuUwIxlQBS"
      },
      "execution_count": null,
      "outputs": []
    },
    {
      "cell_type": "code",
      "source": [
        "dic2"
      ],
      "metadata": {
        "colab": {
          "base_uri": "https://localhost:8080/"
        },
        "id": "tdf1t5Uulg7R",
        "outputId": "01f2a5ea-eb8b-4128-d815-7ab174dd3cec"
      },
      "execution_count": null,
      "outputs": [
        {
          "output_type": "execute_result",
          "data": {
            "text/plain": [
              "{'A': 65, 'B': 66, 'C': 67}"
            ]
          },
          "metadata": {},
          "execution_count": 3
        }
      ]
    },
    {
      "cell_type": "markdown",
      "source": [
        "### Inserção em um dicionário\n",
        "\n",
        "$dicionario [chave] \\rightarrow valor$"
      ],
      "metadata": {
        "id": "4wEmuePflj4F"
      }
    },
    {
      "cell_type": "code",
      "source": [
        "chave = 3\n",
        "valor = 6\n",
        "dic[chave] = valor"
      ],
      "metadata": {
        "id": "QQqpAKQtlnKn"
      },
      "execution_count": null,
      "outputs": []
    },
    {
      "cell_type": "code",
      "source": [
        "dic"
      ],
      "metadata": {
        "colab": {
          "base_uri": "https://localhost:8080/"
        },
        "id": "vwT0Ai5Al2Ki",
        "outputId": "1805a321-9bee-4fe5-a97a-dbb9c05905a6"
      },
      "execution_count": null,
      "outputs": [
        {
          "output_type": "execute_result",
          "data": {
            "text/plain": [
              "{3: 6}"
            ]
          },
          "metadata": {},
          "execution_count": 5
        }
      ]
    },
    {
      "cell_type": "markdown",
      "source": [
        "Podemos fazer consultas"
      ],
      "metadata": {
        "id": "DHjMTfcpmJeY"
      }
    },
    {
      "cell_type": "code",
      "source": [
        "if 'B' in dic2:\n",
        "    print(\"Sim\")\n",
        "else:\n",
        "    print(\"Nao\")"
      ],
      "metadata": {
        "colab": {
          "base_uri": "https://localhost:8080/"
        },
        "id": "M5TCrzD4l58R",
        "outputId": "7aed61ec-96f7-444f-d6b6-575f539bb67c"
      },
      "execution_count": null,
      "outputs": [
        {
          "output_type": "stream",
          "name": "stdout",
          "text": [
            "Sim\n"
          ]
        }
      ]
    },
    {
      "cell_type": "code",
      "source": [
        "if 'D' in dic2:\n",
        "    print(\"Sim\")\n",
        "else:\n",
        "    print(\"Nao\")"
      ],
      "metadata": {
        "colab": {
          "base_uri": "https://localhost:8080/"
        },
        "id": "qFXa32YemDN4",
        "outputId": "fc7e0694-4a18-4d16-8425-8f3dc3ef2f71"
      },
      "execution_count": null,
      "outputs": [
        {
          "output_type": "stream",
          "name": "stdout",
          "text": [
            "Nao\n"
          ]
        }
      ]
    },
    {
      "cell_type": "markdown",
      "source": [
        "Iterando sobre dicionários"
      ],
      "metadata": {
        "id": "tvNvUPLZmg19"
      }
    },
    {
      "cell_type": "code",
      "source": [
        "for chave in dic2:\n",
        "    valor = dic2[chave]\n",
        "    print(f'({chave} -> {valor})')"
      ],
      "metadata": {
        "colab": {
          "base_uri": "https://localhost:8080/"
        },
        "id": "oqu3Aa4HmhC2",
        "outputId": "f23fde8f-45a1-4686-d0c2-eb2ec040c054"
      },
      "execution_count": null,
      "outputs": [
        {
          "output_type": "stream",
          "name": "stdout",
          "text": [
            "(A -> 65)\n",
            "(B -> 66)\n",
            "(C -> 67)\n"
          ]
        }
      ]
    },
    {
      "cell_type": "code",
      "source": [
        "for chave in dic2:\n",
        "    print(f'({chave} -> {dic2[chave]})')"
      ],
      "metadata": {
        "colab": {
          "base_uri": "https://localhost:8080/"
        },
        "id": "V2sgeUEox1kN",
        "outputId": "d12853ee-ed68-4a7b-e254-e2a33b6f1b34"
      },
      "execution_count": null,
      "outputs": [
        {
          "output_type": "stream",
          "name": "stdout",
          "text": [
            "(A -> 65)\n",
            "(B -> 66)\n",
            "(C -> 67)\n"
          ]
        }
      ]
    },
    {
      "cell_type": "markdown",
      "source": [
        "Não é possível iterar sobre os pares (chave,valor) em um dicionário utilizando uma variável externa:"
      ],
      "metadata": {
        "id": "fSJNSQ0rmPFX"
      }
    },
    {
      "cell_type": "code",
      "source": [
        "for i in range(0,len(dic)):\n",
        "    print(dic[i])"
      ],
      "metadata": {
        "colab": {
          "base_uri": "https://localhost:8080/",
          "height": 190
        },
        "id": "ApP8Gd6QmOrv",
        "outputId": "07875a0e-4416-4934-c23a-b7d895c05cc7"
      },
      "execution_count": null,
      "outputs": [
        {
          "output_type": "error",
          "ename": "KeyError",
          "evalue": "ignored",
          "traceback": [
            "\u001b[0;31m---------------------------------------------------------------------------\u001b[0m",
            "\u001b[0;31mKeyError\u001b[0m                                  Traceback (most recent call last)",
            "\u001b[0;32m<ipython-input-10-97aef1303b70>\u001b[0m in \u001b[0;36m<module>\u001b[0;34m()\u001b[0m\n\u001b[1;32m      1\u001b[0m \u001b[0;32mfor\u001b[0m \u001b[0mi\u001b[0m \u001b[0;32min\u001b[0m \u001b[0mrange\u001b[0m\u001b[0;34m(\u001b[0m\u001b[0;36m0\u001b[0m\u001b[0;34m,\u001b[0m\u001b[0mlen\u001b[0m\u001b[0;34m(\u001b[0m\u001b[0mdic\u001b[0m\u001b[0;34m)\u001b[0m\u001b[0;34m)\u001b[0m\u001b[0;34m:\u001b[0m\u001b[0;34m\u001b[0m\u001b[0;34m\u001b[0m\u001b[0m\n\u001b[0;32m----> 2\u001b[0;31m     \u001b[0mprint\u001b[0m\u001b[0;34m(\u001b[0m\u001b[0mdic\u001b[0m\u001b[0;34m[\u001b[0m\u001b[0mi\u001b[0m\u001b[0;34m]\u001b[0m\u001b[0;34m)\u001b[0m\u001b[0;34m\u001b[0m\u001b[0;34m\u001b[0m\u001b[0m\n\u001b[0m",
            "\u001b[0;31mKeyError\u001b[0m: 0"
          ]
        }
      ]
    },
    {
      "cell_type": "code",
      "source": [
        "def imprimeDicionario(d):\n",
        "    for chave in d:\n",
        "        valor = d[chave]\n",
        "        print(f'({chave} -> {valor})')"
      ],
      "metadata": {
        "id": "7nytp0EPvGAQ"
      },
      "execution_count": null,
      "outputs": []
    },
    {
      "cell_type": "markdown",
      "source": [
        "Utilizando os dicionários como histogramas para fazer processos de contagem"
      ],
      "metadata": {
        "id": "eECvmE6tsIrt"
      }
    },
    {
      "cell_type": "code",
      "source": [
        "lista = [4,2,5,1,2,3,4,6,1,5,2,5,6,2]"
      ],
      "metadata": {
        "id": "uHQ3-mJNsMFz"
      },
      "execution_count": null,
      "outputs": []
    },
    {
      "cell_type": "code",
      "source": [
        "histograma = {}"
      ],
      "metadata": {
        "id": "Opc3tpXWsW2z"
      },
      "execution_count": null,
      "outputs": []
    },
    {
      "cell_type": "code",
      "source": [
        "for i in range(0,len(lista)):\n",
        "\n",
        "    if lista[i] in histograma:\n",
        "        histograma[lista[i]] += 1\n",
        "    else:\n",
        "        valor = 1\n",
        "        chave = lista[i]\n",
        "        histograma[chave] = valor\n",
        "        \n",
        "        #histograma[lista[i]] = 1"
      ],
      "metadata": {
        "id": "inNm8JRlsZgi"
      },
      "execution_count": null,
      "outputs": []
    },
    {
      "cell_type": "code",
      "source": [
        "histograma"
      ],
      "metadata": {
        "colab": {
          "base_uri": "https://localhost:8080/"
        },
        "id": "gukSke0UuWC-",
        "outputId": "b6b20226-ccf9-4584-a4b3-c940fd4e1c07"
      },
      "execution_count": null,
      "outputs": [
        {
          "output_type": "execute_result",
          "data": {
            "text/plain": [
              "{1: 2, 2: 4, 3: 1, 4: 2, 5: 3, 6: 2}"
            ]
          },
          "metadata": {},
          "execution_count": 15
        }
      ]
    },
    {
      "cell_type": "code",
      "source": [
        "dic3 = {'Fabio':5,'Arcela':3, 'Paulinho':6}"
      ],
      "metadata": {
        "id": "huHxYDcOurwk"
      },
      "execution_count": null,
      "outputs": []
    },
    {
      "cell_type": "code",
      "source": [
        "imprimeDicionario(dic3)"
      ],
      "metadata": {
        "colab": {
          "base_uri": "https://localhost:8080/"
        },
        "id": "80tR_NomuzAd",
        "outputId": "591e3896-5107-4046-d2b0-a98b0f19b0b2"
      },
      "execution_count": null,
      "outputs": [
        {
          "output_type": "stream",
          "name": "stdout",
          "text": [
            "(Fabio -> 5)\n",
            "(Arcela -> 3)\n",
            "(Paulinho -> 6)\n"
          ]
        }
      ]
    },
    {
      "cell_type": "code",
      "source": [
        "for i in range(0,len(lista)):\n",
        "\n",
        "    if lista[i] in histograma:\n",
        "        histograma[lista[i]] = i\n",
        "    else:\n",
        "        histograma[lista[i]] = {}\n"
      ],
      "metadata": {
        "id": "ntf-5U0YyP7Q"
      },
      "execution_count": null,
      "outputs": []
    },
    {
      "cell_type": "code",
      "source": [
        "string = input().split()"
      ],
      "metadata": {
        "colab": {
          "base_uri": "https://localhost:8080/"
        },
        "id": "r39dClBp0b9X",
        "outputId": "f428d333-d5cf-4e73-9daf-1141e1396454"
      },
      "execution_count": null,
      "outputs": [
        {
          "name": "stdout",
          "output_type": "stream",
          "text": [
            "1 2 3\n"
          ]
        }
      ]
    },
    {
      "cell_type": "code",
      "source": [
        "string"
      ],
      "metadata": {
        "colab": {
          "base_uri": "https://localhost:8080/"
        },
        "id": "hIy3v4wQ0hvV",
        "outputId": "08e88e9e-6704-40c9-b188-9e6783787e4e"
      },
      "execution_count": null,
      "outputs": [
        {
          "output_type": "execute_result",
          "data": {
            "text/plain": [
              "['1', '2', '3']"
            ]
          },
          "metadata": {},
          "execution_count": 21
        }
      ]
    },
    {
      "cell_type": "code",
      "source": [
        "a = string[0]\n",
        "b = string[1]\n",
        "c = string[2]"
      ],
      "metadata": {
        "id": "zJVUQozz0qpG"
      },
      "execution_count": null,
      "outputs": []
    },
    {
      "cell_type": "code",
      "source": [
        "for x in input().split():\n",
        "    print(x)"
      ],
      "metadata": {
        "colab": {
          "base_uri": "https://localhost:8080/"
        },
        "id": "0WReRaTu02U3",
        "outputId": "ff44156d-ad42-48cb-bb62-2769bcabbbfc"
      },
      "execution_count": null,
      "outputs": [
        {
          "output_type": "stream",
          "name": "stdout",
          "text": [
            "1 2 3\n",
            "1\n",
            "2\n",
            "3\n"
          ]
        }
      ]
    },
    {
      "cell_type": "code",
      "source": [
        "a,b,c = (int(x) for x in input().split())"
      ],
      "metadata": {
        "colab": {
          "base_uri": "https://localhost:8080/"
        },
        "id": "ukqeubjW1C0g",
        "outputId": "4cf8b881-4abf-49b1-e937-5d85f4a6b2ff"
      },
      "execution_count": null,
      "outputs": [
        {
          "name": "stdout",
          "output_type": "stream",
          "text": [
            "1 2 3\n"
          ]
        }
      ]
    },
    {
      "cell_type": "markdown",
      "source": [
        "Ordenação em Dicionários"
      ],
      "metadata": {
        "id": "CG78Riad6IBn"
      }
    },
    {
      "cell_type": "code",
      "source": [
        "def getTupleDic(d):\n",
        "    tupla = d.items()\n",
        "    dicionario = {}\n",
        "    for elem in tupla:\n",
        "        dicionario{,elem[0])\n",
        "    return tupla_inverted"
      ],
      "metadata": {
        "id": "1NG9c9Rp6KWf",
        "colab": {
          "base_uri": "https://localhost:8080/",
          "height": 135
        },
        "outputId": "611bc7c4-6e0b-46a6-f853-1c90f43c5375"
      },
      "execution_count": null,
      "outputs": [
        {
          "output_type": "error",
          "ename": "SyntaxError",
          "evalue": "ignored",
          "traceback": [
            "\u001b[0;36m  File \u001b[0;32m\"<ipython-input-26-161952bfa6ce>\"\u001b[0;36m, line \u001b[0;32m5\u001b[0m\n\u001b[0;31m    dicionario{,elem[0])\u001b[0m\n\u001b[0m              ^\u001b[0m\n\u001b[0;31mSyntaxError\u001b[0m\u001b[0;31m:\u001b[0m invalid syntax\n"
          ]
        }
      ]
    },
    {
      "cell_type": "code",
      "source": [
        "st = getTupleDic(dic2)"
      ],
      "metadata": {
        "id": "ONd4NypI6YIP"
      },
      "execution_count": null,
      "outputs": []
    },
    {
      "cell_type": "code",
      "source": [
        "for elem in st:\n",
        "    print(elem[1],elem[0])"
      ],
      "metadata": {
        "id": "4PVx9cc86ic7"
      },
      "execution_count": null,
      "outputs": []
    },
    {
      "cell_type": "code",
      "source": [
        "parte2 = sorted(st,reverse=True)"
      ],
      "metadata": {
        "id": "rDD-GQWi6zKs"
      },
      "execution_count": null,
      "outputs": []
    },
    {
      "cell_type": "code",
      "source": [
        "parte2"
      ],
      "metadata": {
        "id": "2PIA6rRg63GQ"
      },
      "execution_count": null,
      "outputs": []
    },
    {
      "cell_type": "code",
      "source": [
        "a = [4]\n",
        "b = 't'\n"
      ],
      "metadata": {
        "id": "g1FSyooJ8K3g"
      },
      "execution_count": null,
      "outputs": []
    },
    {
      "cell_type": "code",
      "source": [
        "t = zip(a,b)"
      ],
      "metadata": {
        "id": "CX210Kxd8NUg"
      },
      "execution_count": null,
      "outputs": []
    },
    {
      "cell_type": "code",
      "source": [
        "for x in t:\n",
        "    print(x)"
      ],
      "metadata": {
        "id": "dIA-l-jl8VKQ"
      },
      "execution_count": null,
      "outputs": []
    },
    {
      "cell_type": "code",
      "source": [
        "sorted_dic2 = dict(sorted(dic2.items(), key = lambda item : (item[1]),reverse=True ))"
      ],
      "metadata": {
        "id": "cjHEGrOD84Mw"
      },
      "execution_count": null,
      "outputs": []
    },
    {
      "cell_type": "code",
      "source": [
        "sorted_dic2"
      ],
      "metadata": {
        "id": "EOZoGWIl9Ne8"
      },
      "execution_count": null,
      "outputs": []
    },
    {
      "cell_type": "code",
      "source": [
        "dicio"
      ],
      "metadata": {
        "id": "gLJ593S2xnIz"
      },
      "execution_count": null,
      "outputs": []
    },
    {
      "cell_type": "markdown",
      "source": [
        "Operações em dicionários"
      ],
      "metadata": {
        "id": "-Sts4GZXyVNf"
      }
    },
    {
      "cell_type": "code",
      "source": [
        "dic_num = {1: 13, 8: 43, 5: 32}"
      ],
      "metadata": {
        "id": "UY6QQaZUxsIP"
      },
      "execution_count": null,
      "outputs": []
    },
    {
      "cell_type": "code",
      "source": [
        "dic_num"
      ],
      "metadata": {
        "colab": {
          "base_uri": "https://localhost:8080/"
        },
        "id": "wLOyI7d_xycB",
        "outputId": "55f79cff-b75e-4c65-dfd8-3227bd243be4"
      },
      "execution_count": null,
      "outputs": [
        {
          "output_type": "execute_result",
          "data": {
            "text/plain": [
              "{1: 13, 5: 32, 8: 43}"
            ]
          },
          "metadata": {},
          "execution_count": 28
        }
      ]
    },
    {
      "cell_type": "markdown",
      "source": [
        "Pegar o maior valor de chave.\n",
        "\n",
        "Abordagem 1: ordenar as chaves do dicionário de maneira decrescente e pegar o elemento na posição $0$:"
      ],
      "metadata": {
        "id": "fduGE7nCyYIq"
      }
    },
    {
      "cell_type": "code",
      "source": [
        "lista = sorted(dic_num,reverse=True)"
      ],
      "metadata": {
        "id": "R0qscLjox1gg"
      },
      "execution_count": null,
      "outputs": []
    },
    {
      "cell_type": "code",
      "source": [
        "maior = lista[0]\n",
        "print(maior)"
      ],
      "metadata": {
        "colab": {
          "base_uri": "https://localhost:8080/"
        },
        "id": "3ZgbczUhyS-v",
        "outputId": "465cdddd-61a1-4b8f-c32f-2866097ddbfa"
      },
      "execution_count": null,
      "outputs": [
        {
          "output_type": "stream",
          "name": "stdout",
          "text": [
            "1\n"
          ]
        }
      ]
    },
    {
      "cell_type": "markdown",
      "source": [
        "Abordagem 2: pegar todas as chaves do dicionário e colocá-las numa lista utilizando a função *list*. Em seguida, utilizar a função max passando a lista como argumento:"
      ],
      "metadata": {
        "id": "5SnWTi2Zyk8p"
      }
    },
    {
      "cell_type": "code",
      "source": [
        "lista = list(dic_num)"
      ],
      "metadata": {
        "id": "Hzn0pUxNyJ5n"
      },
      "execution_count": null,
      "outputs": []
    },
    {
      "cell_type": "code",
      "source": [
        "max(lista)"
      ],
      "metadata": {
        "colab": {
          "base_uri": "https://localhost:8080/"
        },
        "id": "7eiVv-h9x553",
        "outputId": "d8f09caa-462d-4d6d-8953-751cbce7b939"
      },
      "execution_count": null,
      "outputs": [
        {
          "output_type": "execute_result",
          "data": {
            "text/plain": [
              "8"
            ]
          },
          "metadata": {},
          "execution_count": 37
        }
      ]
    },
    {
      "cell_type": "markdown",
      "source": [
        ""
      ],
      "metadata": {
        "id": "Z3MpV424zCam"
      }
    },
    {
      "cell_type": "code",
      "source": [
        "for chave in dic_num:\n",
        "    valor = dic_num[chave]\n",
        "    print(f\"{chave} ->{valor}\")"
      ],
      "metadata": {
        "colab": {
          "base_uri": "https://localhost:8080/"
        },
        "id": "4YJgapyL2yg-",
        "outputId": "65f00c97-0644-4bbe-e5e5-0fbe5eb10493"
      },
      "execution_count": null,
      "outputs": [
        {
          "output_type": "stream",
          "name": "stdout",
          "text": [
            "1 ->13\n",
            "8 ->43\n",
            "5 ->32\n"
          ]
        }
      ]
    },
    {
      "cell_type": "code",
      "source": [
        "todos_itens = dic_num.items()\n",
        "print(todos_itens)"
      ],
      "metadata": {
        "colab": {
          "base_uri": "https://localhost:8080/"
        },
        "id": "ZNekOr_T3_qD",
        "outputId": "738587bb-e7f9-49f6-9388-fafed94cff73"
      },
      "execution_count": null,
      "outputs": [
        {
          "output_type": "stream",
          "name": "stdout",
          "text": [
            "dict_items([(1, 13), (8, 43), (5, 32)])\n"
          ]
        }
      ]
    },
    {
      "cell_type": "code",
      "source": [
        "for elem in todos_itens:\n",
        "    print(f'{elem[0]} and {elem[1]}')"
      ],
      "metadata": {
        "colab": {
          "base_uri": "https://localhost:8080/"
        },
        "id": "Lhhe0ve97Say",
        "outputId": "0687db2c-07de-4f00-d590-7c37622065e4"
      },
      "execution_count": null,
      "outputs": [
        {
          "output_type": "stream",
          "name": "stdout",
          "text": [
            "1 and 13\n",
            "8 and 43\n",
            "5 and 32\n"
          ]
        }
      ]
    },
    {
      "cell_type": "code",
      "source": [
        "lista_dic = list(todos_itens)"
      ],
      "metadata": {
        "id": "F_MUA_D_7frn"
      },
      "execution_count": null,
      "outputs": []
    },
    {
      "cell_type": "code",
      "source": [
        "lista_dic"
      ],
      "metadata": {
        "colab": {
          "base_uri": "https://localhost:8080/"
        },
        "id": "NNv34MV47i9Q",
        "outputId": "f0d314a0-4ad0-4b10-eb91-ba0ec0a1edb6"
      },
      "execution_count": null,
      "outputs": [
        {
          "output_type": "execute_result",
          "data": {
            "text/plain": [
              "[(1, 13), (8, 43), (5, 32)]"
            ]
          },
          "metadata": {},
          "execution_count": 101
        }
      ]
    },
    {
      "cell_type": "code",
      "source": [
        "for i in range(0,len(lista_dic)):\n",
        "    print(f'{lista_dic[i][0]} and {lista_dic[i][1]}')"
      ],
      "metadata": {
        "colab": {
          "base_uri": "https://localhost:8080/"
        },
        "id": "pp9bRMDi7naB",
        "outputId": "bd95be45-5adb-410a-b707-49524e121a32"
      },
      "execution_count": null,
      "outputs": [
        {
          "output_type": "stream",
          "name": "stdout",
          "text": [
            "1 and 13\n",
            "8 and 43\n",
            "5 and 32\n"
          ]
        }
      ]
    },
    {
      "cell_type": "markdown",
      "source": [
        "Funções lambda"
      ],
      "metadata": {
        "id": "v1eylWzd4hp_"
      }
    },
    {
      "cell_type": "code",
      "source": [
        "def mult(a,b):\n",
        "    return a*b"
      ],
      "metadata": {
        "id": "pNtT5ytU5Cr-"
      },
      "execution_count": null,
      "outputs": []
    },
    {
      "cell_type": "code",
      "source": [
        "mult(5,6)"
      ],
      "metadata": {
        "colab": {
          "base_uri": "https://localhost:8080/"
        },
        "id": "Uh5EMe8f5F6h",
        "outputId": "6991bac6-c5e7-4faa-f635-77dd43df2bd2"
      },
      "execution_count": null,
      "outputs": [
        {
          "output_type": "execute_result",
          "data": {
            "text/plain": [
              "30"
            ]
          },
          "metadata": {},
          "execution_count": 72
        }
      ]
    },
    {
      "cell_type": "code",
      "source": [
        "y = lambda x: x**2"
      ],
      "metadata": {
        "id": "WJSRupo05HsX"
      },
      "execution_count": null,
      "outputs": []
    },
    {
      "cell_type": "code",
      "source": [
        "y"
      ],
      "metadata": {
        "colab": {
          "base_uri": "https://localhost:8080/"
        },
        "id": "4tHiJj4P5Wm4",
        "outputId": "38f849bd-693a-4cb1-bb72-85e4031dfea6"
      },
      "execution_count": null,
      "outputs": [
        {
          "output_type": "execute_result",
          "data": {
            "text/plain": [
              "<function __main__.<lambda>>"
            ]
          },
          "metadata": {},
          "execution_count": 74
        }
      ]
    },
    {
      "cell_type": "code",
      "source": [
        "y(8)"
      ],
      "metadata": {
        "colab": {
          "base_uri": "https://localhost:8080/"
        },
        "id": "BHHXN5Wf5ZJp",
        "outputId": "cb0e5ea0-d295-4c50-f744-ca3148af76b7"
      },
      "execution_count": null,
      "outputs": [
        {
          "output_type": "execute_result",
          "data": {
            "text/plain": [
              "64"
            ]
          },
          "metadata": {},
          "execution_count": 76
        }
      ]
    },
    {
      "cell_type": "code",
      "source": [
        "valor = lambda par: par[2]"
      ],
      "metadata": {
        "id": "roft2E7_5uZC"
      },
      "execution_count": null,
      "outputs": []
    },
    {
      "cell_type": "code",
      "source": [
        "tupla = (3,4)\n",
        "lista = [1,2,3]"
      ],
      "metadata": {
        "id": "zxg-RfTZ59DK"
      },
      "execution_count": null,
      "outputs": []
    },
    {
      "cell_type": "code",
      "source": [
        "dic_num_ord = dict(sorted(dic_num.items(), key = lambda x: (x[0],x[1]),reverse=True))"
      ],
      "metadata": {
        "id": "-xPZGqmO6Acr"
      },
      "execution_count": null,
      "outputs": []
    },
    {
      "cell_type": "code",
      "source": [
        "dic_num_ord"
      ],
      "metadata": {
        "colab": {
          "base_uri": "https://localhost:8080/"
        },
        "id": "Y-2FS6P98jh2",
        "outputId": "0257afd4-c620-40d4-a853-f11e6fe2eea0"
      },
      "execution_count": null,
      "outputs": [
        {
          "output_type": "execute_result",
          "data": {
            "text/plain": [
              "{1: 13, 5: 32, 8: 43}"
            ]
          },
          "metadata": {},
          "execution_count": 126
        }
      ]
    },
    {
      "cell_type": "code",
      "source": [
        "lista_chaves = sorted(dic_num)\n",
        "lista_chaves"
      ],
      "metadata": {
        "colab": {
          "base_uri": "https://localhost:8080/"
        },
        "id": "xkbJWqin4i4M",
        "outputId": "e1a4b088-10a8-48db-ab2e-7e8e566639d9"
      },
      "execution_count": null,
      "outputs": [
        {
          "output_type": "execute_result",
          "data": {
            "text/plain": [
              "[1, 5, 8]"
            ]
          },
          "metadata": {},
          "execution_count": 70
        }
      ]
    },
    {
      "cell_type": "code",
      "source": [
        "dic_num"
      ],
      "metadata": {
        "colab": {
          "base_uri": "https://localhost:8080/"
        },
        "id": "qeRlZ9Fb6T5L",
        "outputId": "1bbdf0fe-1d6f-4af6-f75f-25548a747d0a"
      },
      "execution_count": null,
      "outputs": [
        {
          "output_type": "execute_result",
          "data": {
            "text/plain": [
              "{1: 13, 5: 32, 8: 43}"
            ]
          },
          "metadata": {},
          "execution_count": 86
        }
      ]
    },
    {
      "cell_type": "code",
      "source": [
        "key = lambda x: x[1]"
      ],
      "metadata": {
        "id": "QqgIHmNb8RFV"
      },
      "execution_count": null,
      "outputs": []
    },
    {
      "cell_type": "code",
      "source": [
        "key(list(dic_num.items()))"
      ],
      "metadata": {
        "colab": {
          "base_uri": "https://localhost:8080/"
        },
        "id": "s55XbAkT8SGk",
        "outputId": "09b7b868-dc75-4662-a29d-972ca9a3fa80"
      },
      "execution_count": null,
      "outputs": [
        {
          "output_type": "execute_result",
          "data": {
            "text/plain": [
              "(8, 43)"
            ]
          },
          "metadata": {},
          "execution_count": 116
        }
      ]
    }
  ]
}