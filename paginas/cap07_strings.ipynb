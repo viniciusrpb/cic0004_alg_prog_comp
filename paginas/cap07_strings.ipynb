{
  "nbformat": 4,
  "nbformat_minor": 0,
  "metadata": {
    "colab": {
      "name": "cap7_strings.ipynb",
      "provenance": [],
      "collapsed_sections": [],
      "authorship_tag": "ABX9TyNXU0oqY3thYKv1I3j2XX3S",
      "include_colab_link": true
    },
    "kernelspec": {
      "name": "python3",
      "display_name": "Python 3"
    },
    "language_info": {
      "name": "python"
    }
  },
  "cells": [
    {
      "cell_type": "markdown",
      "metadata": {
        "id": "view-in-github",
        "colab_type": "text"
      },
      "source": [
        "<a href=\"https://colab.research.google.com/github/viniciusrpb/cic0004_alg_prog_comp/blob/main/paginas/cap07_strings.ipynb\" target=\"_parent\"><img src=\"https://colab.research.google.com/assets/colab-badge.svg\" alt=\"Open In Colab\"/></a>"
      ]
    },
    {
      "cell_type": "markdown",
      "source": [
        "# Capítulo 7 - Strings"
      ],
      "metadata": {
        "id": "3w3TmHlGaWg6"
      }
    },
    {
      "cell_type": "code",
      "execution_count": null,
      "metadata": {
        "colab": {
          "base_uri": "https://localhost:8080/"
        },
        "id": "KXjwEgmmXup0",
        "outputId": "bb1dadc0-ba20-4198-863b-fc98d9492423"
      },
      "outputs": [
        {
          "name": "stdout",
          "output_type": "stream",
          "text": [
            "Digite o seu nome: Olavo\n"
          ]
        }
      ],
      "source": [
        "nome = input(\"Digite o seu nome: \")"
      ]
    },
    {
      "cell_type": "code",
      "source": [
        "type(nome)"
      ],
      "metadata": {
        "colab": {
          "base_uri": "https://localhost:8080/"
        },
        "id": "XfLrhV3caibk",
        "outputId": "50df0032-c835-474a-e40f-7c8d49a5edf4"
      },
      "execution_count": null,
      "outputs": [
        {
          "output_type": "execute_result",
          "data": {
            "text/plain": [
              "str"
            ]
          },
          "metadata": {},
          "execution_count": 3
        }
      ]
    },
    {
      "cell_type": "code",
      "source": [
        "nome"
      ],
      "metadata": {
        "colab": {
          "base_uri": "https://localhost:8080/",
          "height": 35
        },
        "id": "MBlTCYR2amXI",
        "outputId": "30926550-121d-49bd-bdc2-d9737490493d"
      },
      "execution_count": null,
      "outputs": [
        {
          "output_type": "execute_result",
          "data": {
            "text/plain": [
              "'Olavo'"
            ],
            "application/vnd.google.colaboratory.intrinsic+json": {
              "type": "string"
            }
          },
          "metadata": {},
          "execution_count": 5
        }
      ]
    },
    {
      "cell_type": "markdown",
      "source": [
        "## Processamento de Strings"
      ],
      "metadata": {
        "id": "NXutPxrqbXiQ"
      }
    },
    {
      "cell_type": "code",
      "source": [
        "word = \"Petronio de ozonio\""
      ],
      "metadata": {
        "id": "F2tC2_bhbZ5c"
      },
      "execution_count": null,
      "outputs": []
    },
    {
      "cell_type": "markdown",
      "source": [
        "Para pegar o tamanho de uma string, utilize a função len()"
      ],
      "metadata": {
        "id": "J6LX539zcJIC"
      }
    },
    {
      "cell_type": "code",
      "source": [
        "tam = len(word)\n",
        "print(tam)"
      ],
      "metadata": {
        "colab": {
          "base_uri": "https://localhost:8080/"
        },
        "id": "vJMXTS38cImg",
        "outputId": "79451e9a-242b-4b50-8a9e-4e3ce5f1cb38"
      },
      "execution_count": null,
      "outputs": [
        {
          "output_type": "stream",
          "name": "stdout",
          "text": [
            "18\n"
          ]
        }
      ]
    },
    {
      "cell_type": "markdown",
      "source": [
        "Essa aqui vocês já conhecem..."
      ],
      "metadata": {
        "id": "YOsr4ifAcSLK"
      }
    },
    {
      "cell_type": "code",
      "source": [
        "word.split()"
      ],
      "metadata": {
        "colab": {
          "base_uri": "https://localhost:8080/"
        },
        "id": "Ek1NzzvicUud",
        "outputId": "e402b5a5-1129-4e91-cc00-1c2f81c4cf62"
      },
      "execution_count": null,
      "outputs": [
        {
          "output_type": "execute_result",
          "data": {
            "text/plain": [
              "['Petronio', 'de', 'ozonio']"
            ]
          },
          "metadata": {},
          "execution_count": 8
        }
      ]
    },
    {
      "cell_type": "code",
      "source": [
        "word.split(\"o\")"
      ],
      "metadata": {
        "colab": {
          "base_uri": "https://localhost:8080/"
        },
        "id": "IIzX0uKZc7UR",
        "outputId": "b1784619-b313-409f-e371-822a15cd0768"
      },
      "execution_count": null,
      "outputs": [
        {
          "output_type": "execute_result",
          "data": {
            "text/plain": [
              "['Petr', 'ni', ' de ', 'z', 'ni', '']"
            ]
          },
          "metadata": {},
          "execution_count": 9
        }
      ]
    },
    {
      "cell_type": "markdown",
      "source": [
        "Percorrer uma string passando por cada caractere utilizando posições indexadas:\n",
        "\n",
        "word[index] : acessar o caractere da string word que está na posição index"
      ],
      "metadata": {
        "id": "a867cvw-dn1R"
      }
    },
    {
      "cell_type": "code",
      "source": [
        "for index in range(0,tam):\n",
        "    print(f'Posição: {index} Caractere: {word[index]}')"
      ],
      "metadata": {
        "colab": {
          "base_uri": "https://localhost:8080/"
        },
        "id": "LS9gdlb9dqP7",
        "outputId": "c3e9086c-0fd5-4bb0-a978-56610174d248"
      },
      "execution_count": null,
      "outputs": [
        {
          "output_type": "stream",
          "name": "stdout",
          "text": [
            "Posição: 0 Caractere: P\n",
            "Posição: 1 Caractere: e\n",
            "Posição: 2 Caractere: t\n",
            "Posição: 3 Caractere: r\n",
            "Posição: 4 Caractere: o\n",
            "Posição: 5 Caractere: n\n",
            "Posição: 6 Caractere: i\n",
            "Posição: 7 Caractere: o\n",
            "Posição: 8 Caractere:  \n",
            "Posição: 9 Caractere: d\n",
            "Posição: 10 Caractere: e\n",
            "Posição: 11 Caractere:  \n",
            "Posição: 12 Caractere: o\n",
            "Posição: 13 Caractere: z\n",
            "Posição: 14 Caractere: o\n",
            "Posição: 15 Caractere: n\n",
            "Posição: 16 Caractere: i\n",
            "Posição: 17 Caractere: o\n"
          ]
        }
      ]
    },
    {
      "cell_type": "code",
      "source": [
        "index = 0\n",
        "while index < tam:\n",
        "    print(f'Posição: {index} Caractere: {word[index]}')\n",
        "    index += 1"
      ],
      "metadata": {
        "colab": {
          "base_uri": "https://localhost:8080/"
        },
        "id": "HqEpjmWyeCyU",
        "outputId": "98607880-945f-4b5d-e54e-51bf6d043238"
      },
      "execution_count": null,
      "outputs": [
        {
          "output_type": "stream",
          "name": "stdout",
          "text": [
            "Posição: 0 Caractere: P\n",
            "Posição: 1 Caractere: e\n",
            "Posição: 2 Caractere: t\n",
            "Posição: 3 Caractere: r\n",
            "Posição: 4 Caractere: o\n",
            "Posição: 5 Caractere: n\n",
            "Posição: 6 Caractere: i\n",
            "Posição: 7 Caractere: o\n",
            "Posição: 8 Caractere:  \n",
            "Posição: 9 Caractere: d\n",
            "Posição: 10 Caractere: e\n",
            "Posição: 11 Caractere:  \n",
            "Posição: 12 Caractere: o\n",
            "Posição: 13 Caractere: z\n",
            "Posição: 14 Caractere: o\n",
            "Posição: 15 Caractere: n\n",
            "Posição: 16 Caractere: i\n",
            "Posição: 17 Caractere: o\n"
          ]
        }
      ]
    },
    {
      "cell_type": "code",
      "source": [
        "for caractere in word:\n",
        "    print(caractere)"
      ],
      "metadata": {
        "colab": {
          "base_uri": "https://localhost:8080/"
        },
        "id": "dkMUAkWJfSE4",
        "outputId": "0d5cd9f8-f90f-48fe-cb09-353abef8d08d"
      },
      "execution_count": null,
      "outputs": [
        {
          "output_type": "stream",
          "name": "stdout",
          "text": [
            "P\n",
            "e\n",
            "t\n",
            "r\n",
            "o\n",
            "n\n",
            "i\n",
            "o\n",
            " \n",
            "d\n",
            "e\n",
            " \n",
            "o\n",
            "z\n",
            "o\n",
            "n\n",
            "i\n",
            "o\n"
          ]
        }
      ]
    },
    {
      "cell_type": "markdown",
      "source": [
        "## Tabela ASCII\n",
        "\n",
        "Não precisa decorar a tabela ASCII, mas saber (ou saber consultar) os decimais de alguns caracteres mais importantes:\n",
        "\n",
        "\n",
        "\n",
        "*   '0' : decimal 48\n",
        "*   'A' : decimal 65\n",
        "*   'a' : decimal 97\n",
        "\n"
      ],
      "metadata": {
        "id": "LFVgrTRrikLN"
      }
    },
    {
      "cell_type": "code",
      "source": [
        "ord('0')"
      ],
      "metadata": {
        "colab": {
          "base_uri": "https://localhost:8080/"
        },
        "id": "MALYyEarijQ3",
        "outputId": "c8773f68-a392-4ed8-8d98-f5b8b47e70bc"
      },
      "execution_count": null,
      "outputs": [
        {
          "output_type": "execute_result",
          "data": {
            "text/plain": [
              "48"
            ]
          },
          "metadata": {},
          "execution_count": 33
        }
      ]
    },
    {
      "cell_type": "code",
      "source": [
        "ord('C')"
      ],
      "metadata": {
        "colab": {
          "base_uri": "https://localhost:8080/"
        },
        "id": "o1ZJ60tYi_fS",
        "outputId": "e501c108-d006-4ab6-915a-60f39f1c3a87"
      },
      "execution_count": null,
      "outputs": [
        {
          "output_type": "execute_result",
          "data": {
            "text/plain": [
              "67"
            ]
          },
          "metadata": {},
          "execution_count": 36
        }
      ]
    },
    {
      "cell_type": "code",
      "source": [
        "decimal = 100\n",
        "chr(decimal)"
      ],
      "metadata": {
        "colab": {
          "base_uri": "https://localhost:8080/",
          "height": 35
        },
        "id": "n3k0BufzjHWb",
        "outputId": "d1303043-d71b-49f8-ff9c-7479d3b78094"
      },
      "execution_count": null,
      "outputs": [
        {
          "output_type": "execute_result",
          "data": {
            "text/plain": [
              "'d'"
            ],
            "application/vnd.google.colaboratory.intrinsic+json": {
              "type": "string"
            }
          },
          "metadata": {},
          "execution_count": 37
        }
      ]
    },
    {
      "cell_type": "code",
      "source": [
        "def nossaInt(string_num):\n",
        "\n",
        "    n = len(string_num)\n",
        "\n",
        "    num_dec = 0\n",
        "\n",
        "    potencia_dez = 1 # 10^0\n",
        "\n",
        "    # i = n-1, n-2, ..., 0\n",
        "    for i in range(n-1,-1,-1):\n",
        "        digito = ord(string_num[i])-ord('0') # converte caractere em digito numerico\n",
        "        termo = digito*potencia_dez\n",
        "        num_dec = num_dec + termo\n",
        "        potencia_dez = potencia_dez*10\n",
        "\n",
        "    return num_dec"
      ],
      "metadata": {
        "id": "o5DBKh-vkbIY"
      },
      "execution_count": null,
      "outputs": []
    },
    {
      "cell_type": "code",
      "source": [
        "dec = nossaInt(\"777754896\")\n",
        "print(dec)"
      ],
      "metadata": {
        "colab": {
          "base_uri": "https://localhost:8080/"
        },
        "id": "64X4o8CYlzZv",
        "outputId": "a1a98377-177f-4f16-c3a0-0c14e371e031"
      },
      "execution_count": null,
      "outputs": [
        {
          "output_type": "stream",
          "name": "stdout",
          "text": [
            "777754896\n"
          ]
        }
      ]
    },
    {
      "cell_type": "code",
      "source": [
        "word"
      ],
      "metadata": {
        "colab": {
          "base_uri": "https://localhost:8080/",
          "height": 35
        },
        "id": "gYF4pFOZrCDU",
        "outputId": "df80f28e-b911-4818-dd58-d370d180353f"
      },
      "execution_count": null,
      "outputs": [
        {
          "output_type": "execute_result",
          "data": {
            "text/plain": [
              "'Petronio de ozonio'"
            ],
            "application/vnd.google.colaboratory.intrinsic+json": {
              "type": "string"
            }
          },
          "metadata": {},
          "execution_count": 68
        }
      ]
    },
    {
      "cell_type": "code",
      "source": [
        "word[1]"
      ],
      "metadata": {
        "colab": {
          "base_uri": "https://localhost:8080/",
          "height": 35
        },
        "id": "mes_h_bNrGdo",
        "outputId": "8d42b87c-8395-433e-eb5d-5c60e0b8c42a"
      },
      "execution_count": null,
      "outputs": [
        {
          "output_type": "execute_result",
          "data": {
            "text/plain": [
              "'e'"
            ],
            "application/vnd.google.colaboratory.intrinsic+json": {
              "type": "string"
            }
          },
          "metadata": {},
          "execution_count": 69
        }
      ]
    },
    {
      "cell_type": "markdown",
      "source": [
        "Podemos pegar intervalos de caracteres:\n",
        "\n",
        "word[a,b] pegar todos os caracteres que estão no intervalo: [a,b)"
      ],
      "metadata": {
        "id": "f_mweYbXrMsx"
      }
    },
    {
      "cell_type": "code",
      "source": [
        "word[0:2]"
      ],
      "metadata": {
        "colab": {
          "base_uri": "https://localhost:8080/",
          "height": 35
        },
        "id": "0g5czBlnrOe5",
        "outputId": "345b1f33-d884-46f8-bc95-c6b210ab34b8"
      },
      "execution_count": null,
      "outputs": [
        {
          "output_type": "execute_result",
          "data": {
            "text/plain": [
              "'Pe'"
            ],
            "application/vnd.google.colaboratory.intrinsic+json": {
              "type": "string"
            }
          },
          "metadata": {},
          "execution_count": 70
        }
      ]
    },
    {
      "cell_type": "code",
      "source": [
        "word[0:18]"
      ],
      "metadata": {
        "colab": {
          "base_uri": "https://localhost:8080/",
          "height": 35
        },
        "id": "rBm7NcFlrT0x",
        "outputId": "94c83bce-cb65-44d1-b701-247d1495473c"
      },
      "execution_count": null,
      "outputs": [
        {
          "output_type": "execute_result",
          "data": {
            "text/plain": [
              "'Petronio de ozonio'"
            ],
            "application/vnd.google.colaboratory.intrinsic+json": {
              "type": "string"
            }
          },
          "metadata": {},
          "execution_count": 71
        }
      ]
    },
    {
      "cell_type": "code",
      "source": [
        "word[3:7]"
      ],
      "metadata": {
        "colab": {
          "base_uri": "https://localhost:8080/",
          "height": 35
        },
        "id": "093pd-uUreB9",
        "outputId": "17113400-4fdd-4cd8-944a-7793d4376685"
      },
      "execution_count": null,
      "outputs": [
        {
          "output_type": "execute_result",
          "data": {
            "text/plain": [
              "'roni'"
            ],
            "application/vnd.google.colaboratory.intrinsic+json": {
              "type": "string"
            }
          },
          "metadata": {},
          "execution_count": 72
        }
      ]
    },
    {
      "cell_type": "code",
      "source": [
        "word[:-6]"
      ],
      "metadata": {
        "colab": {
          "base_uri": "https://localhost:8080/",
          "height": 35
        },
        "id": "I9FIk4TDrm9r",
        "outputId": "7e7b6dd3-d40f-41da-cd19-5f10167e7030"
      },
      "execution_count": null,
      "outputs": [
        {
          "output_type": "execute_result",
          "data": {
            "text/plain": [
              "'Petronio de '"
            ],
            "application/vnd.google.colaboratory.intrinsic+json": {
              "type": "string"
            }
          },
          "metadata": {},
          "execution_count": 73
        }
      ]
    },
    {
      "cell_type": "markdown",
      "source": [
        "pegando-se os caracteres alternadamente, isto é, a cada dois caracteres"
      ],
      "metadata": {
        "id": "MmB85Sg0rxAs"
      }
    },
    {
      "cell_type": "code",
      "source": [
        "word[0:18:2]"
      ],
      "metadata": {
        "colab": {
          "base_uri": "https://localhost:8080/",
          "height": 35
        },
        "id": "4Ige6GN5rwO8",
        "outputId": "617f5dfa-699b-4d6a-9349-959a962f848c"
      },
      "execution_count": null,
      "outputs": [
        {
          "output_type": "execute_result",
          "data": {
            "text/plain": [
              "'Ptoi eooi'"
            ],
            "application/vnd.google.colaboratory.intrinsic+json": {
              "type": "string"
            }
          },
          "metadata": {},
          "execution_count": 74
        }
      ]
    },
    {
      "cell_type": "code",
      "source": [
        "a = 1\n",
        "b = 10\n",
        "t = 2\n",
        "word[a:b:t]"
      ],
      "metadata": {
        "colab": {
          "base_uri": "https://localhost:8080/",
          "height": 35
        },
        "id": "K3Sk69HasGR0",
        "outputId": "6594bce8-1f0f-4c7d-9ac2-2f539bf4a5bd"
      },
      "execution_count": null,
      "outputs": [
        {
          "output_type": "execute_result",
          "data": {
            "text/plain": [
              "'ernod'"
            ],
            "application/vnd.google.colaboratory.intrinsic+json": {
              "type": "string"
            }
          },
          "metadata": {},
          "execution_count": 75
        }
      ]
    },
    {
      "cell_type": "markdown",
      "source": [
        "operador de concatenação: +"
      ],
      "metadata": {
        "id": "VESDY02WtO0r"
      }
    },
    {
      "cell_type": "code",
      "source": [
        "str1 = \"Athletico\"\n",
        "str2 = \"Paranaense\"\n",
        "\n",
        "str3 = str1+\" \"+str2\n",
        "print(str3)"
      ],
      "metadata": {
        "colab": {
          "base_uri": "https://localhost:8080/"
        },
        "id": "wayUl-wYtQn_",
        "outputId": "776e1d2b-cc28-4e21-a11e-f140c1974035"
      },
      "execution_count": null,
      "outputs": [
        {
          "output_type": "stream",
          "name": "stdout",
          "text": [
            "Athletico Paranaense\n"
          ]
        }
      ]
    },
    {
      "cell_type": "code",
      "source": [
        "str1 = str1+\" \"+str2\n",
        "print(str1)"
      ],
      "metadata": {
        "colab": {
          "base_uri": "https://localhost:8080/"
        },
        "id": "Q4q7W1Ectngm",
        "outputId": "74bdc27b-2fff-4994-9611-63cf86e34d60"
      },
      "execution_count": null,
      "outputs": [
        {
          "output_type": "stream",
          "name": "stdout",
          "text": [
            "Athletico Paranaense\n"
          ]
        }
      ]
    },
    {
      "cell_type": "markdown",
      "source": [
        "Strings são imutáveis. Caso queiramos alterar uma string, devemos gerar uma nova string a partir da string original com a alteração realizada.\n",
        "\n",
        "Por exemplo, alterar o caractere na posição $pos$ de uma string pelo caractere c "
      ],
      "metadata": {
        "id": "QIUP-IA1sbAg"
      }
    },
    {
      "cell_type": "code",
      "source": [
        "def alteraCaractere(string,pos,c):\n",
        "    nova_string = \"\"\n",
        "\n",
        "    tam = len(string)\n",
        "\n",
        "    index = 0\n",
        "    while index < tam:\n",
        "\n",
        "        if index == pos:\n",
        "            nova_string=nova_string+c\n",
        "        else:\n",
        "            nova_string=nova_string+string[index]\n",
        "\n",
        "        index+=1\n",
        "\n",
        "    return nova_string"
      ],
      "metadata": {
        "id": "x2hhLNbdsO9u"
      },
      "execution_count": null,
      "outputs": []
    },
    {
      "cell_type": "code",
      "source": [
        "pos = 4\n",
        "c = 'a'\n",
        "nstr = alteraCaractere(word,pos,c)"
      ],
      "metadata": {
        "id": "UHG7plRmvPQp"
      },
      "execution_count": null,
      "outputs": []
    },
    {
      "cell_type": "code",
      "source": [
        "nstr"
      ],
      "metadata": {
        "colab": {
          "base_uri": "https://localhost:8080/",
          "height": 35
        },
        "id": "KRRP0tixvYrB",
        "outputId": "42c527dd-8090-4e93-fdbb-ef6b948ca21f"
      },
      "execution_count": null,
      "outputs": [
        {
          "output_type": "execute_result",
          "data": {
            "text/plain": [
              "'Petranio de ozonio'"
            ],
            "application/vnd.google.colaboratory.intrinsic+json": {
              "type": "string"
            }
          },
          "metadata": {},
          "execution_count": 83
        }
      ]
    },
    {
      "cell_type": "code",
      "source": [
        "def alteraCaractere2(string,pos,c):\n",
        "    nova_string = \"\"\n",
        "\n",
        "    tam = len(string)\n",
        "\n",
        "    index = 0\n",
        "    while index < pos:\n",
        "        nova_string=nova_string+string[index]\n",
        "        index+=1\n",
        "    \n",
        "    nova_string=nova_string+c\n",
        "    index+=1\n",
        "\n",
        "    while index < tam:\n",
        "        nova_string=nova_string+string[index]\n",
        "        index+=1\n",
        "\n",
        "    return nova_string"
      ],
      "metadata": {
        "id": "cUrXjcWNwDLM"
      },
      "execution_count": null,
      "outputs": []
    },
    {
      "cell_type": "markdown",
      "source": [
        "Exercício para casa: implementar uma função alteraCaractere3 utilizando notação compacta indexada\n",
        "\n",
        "\"word[a:b]\""
      ],
      "metadata": {
        "id": "e5Ocdax5wvK-"
      }
    },
    {
      "cell_type": "code",
      "source": [
        "pos = 4\n",
        "c = 'a'\n",
        "nstr = alteraCaractere2(word,pos,c)"
      ],
      "metadata": {
        "id": "xR28sS2EwmaJ"
      },
      "execution_count": null,
      "outputs": []
    },
    {
      "cell_type": "code",
      "source": [
        "nstr"
      ],
      "metadata": {
        "colab": {
          "base_uri": "https://localhost:8080/",
          "height": 35
        },
        "id": "GSspcsLWwo42",
        "outputId": "1fa7181b-0556-43c2-8efc-46006777035e"
      },
      "execution_count": null,
      "outputs": [
        {
          "output_type": "execute_result",
          "data": {
            "text/plain": [
              "'Petranio de ozonio'"
            ],
            "application/vnd.google.colaboratory.intrinsic+json": {
              "type": "string"
            }
          },
          "metadata": {},
          "execution_count": 89
        }
      ]
    },
    {
      "cell_type": "markdown",
      "source": [
        "método replace"
      ],
      "metadata": {
        "id": "1gIhZfYpvil1"
      }
    },
    {
      "cell_type": "code",
      "source": [
        "word.replace(\"Petronio\",\"Peronio\")"
      ],
      "metadata": {
        "colab": {
          "base_uri": "https://localhost:8080/",
          "height": 35
        },
        "id": "7cB1_FmivkWW",
        "outputId": "19fab90a-47c0-4267-ed4b-b44cce1ae51b"
      },
      "execution_count": null,
      "outputs": [
        {
          "output_type": "execute_result",
          "data": {
            "text/plain": [
              "'Peronio de ozonio'"
            ],
            "application/vnd.google.colaboratory.intrinsic+json": {
              "type": "string"
            }
          },
          "metadata": {},
          "execution_count": 86
        }
      ]
    },
    {
      "cell_type": "markdown",
      "source": [
        "## Funções adicionais"
      ],
      "metadata": {
        "id": "-_X3ZAC5xAW5"
      }
    },
    {
      "cell_type": "code",
      "source": [
        "word.lower()"
      ],
      "metadata": {
        "colab": {
          "base_uri": "https://localhost:8080/",
          "height": 35
        },
        "id": "Hto0kiXOxCGI",
        "outputId": "d02840d3-f19b-45be-d2b0-ff3c3dad67c4"
      },
      "execution_count": null,
      "outputs": [
        {
          "output_type": "execute_result",
          "data": {
            "text/plain": [
              "'petronio de ozonio'"
            ],
            "application/vnd.google.colaboratory.intrinsic+json": {
              "type": "string"
            }
          },
          "metadata": {},
          "execution_count": 90
        }
      ]
    },
    {
      "cell_type": "code",
      "source": [
        "word.upper()"
      ],
      "metadata": {
        "colab": {
          "base_uri": "https://localhost:8080/",
          "height": 35
        },
        "id": "H08de2fMxH1H",
        "outputId": "662a809e-b2e0-487e-8a72-b56144b3c0cf"
      },
      "execution_count": null,
      "outputs": [
        {
          "output_type": "execute_result",
          "data": {
            "text/plain": [
              "'PETRONIO DE OZONIO'"
            ],
            "application/vnd.google.colaboratory.intrinsic+json": {
              "type": "string"
            }
          },
          "metadata": {},
          "execution_count": 91
        }
      ]
    },
    {
      "cell_type": "code",
      "source": [
        "num = '214'\n",
        "num.isdigit()"
      ],
      "metadata": {
        "colab": {
          "base_uri": "https://localhost:8080/"
        },
        "id": "6BKI-LdQxKCf",
        "outputId": "e94c9677-892a-4506-a98c-0023132fadca"
      },
      "execution_count": null,
      "outputs": [
        {
          "output_type": "execute_result",
          "data": {
            "text/plain": [
              "True"
            ]
          },
          "metadata": {},
          "execution_count": 96
        }
      ]
    },
    {
      "cell_type": "code",
      "source": [
        "num = '214n'\n",
        "num.isdigit()"
      ],
      "metadata": {
        "colab": {
          "base_uri": "https://localhost:8080/"
        },
        "id": "tPqsdGhtxXp3",
        "outputId": "37bffe39-0b4c-4541-9960-1ee3103ee327"
      },
      "execution_count": null,
      "outputs": [
        {
          "output_type": "execute_result",
          "data": {
            "text/plain": [
              "False"
            ]
          },
          "metadata": {},
          "execution_count": 97
        }
      ]
    },
    {
      "cell_type": "code",
      "source": [
        "num = '214.5'\n",
        "num.isdigit()"
      ],
      "metadata": {
        "colab": {
          "base_uri": "https://localhost:8080/"
        },
        "id": "HOTTEk9JxbVM",
        "outputId": "e72a80be-0bee-4273-ad59-fd5d6c3e5832"
      },
      "execution_count": null,
      "outputs": [
        {
          "output_type": "execute_result",
          "data": {
            "text/plain": [
              "False"
            ]
          },
          "metadata": {},
          "execution_count": 98
        }
      ]
    },
    {
      "cell_type": "code",
      "source": [
        "num = '214.5'\n",
        "num.isalnum()"
      ],
      "metadata": {
        "colab": {
          "base_uri": "https://localhost:8080/"
        },
        "id": "zJ66Dtdjxgfw",
        "outputId": "b3ec0f88-66af-41f7-82ac-465a2f46ea51"
      },
      "execution_count": null,
      "outputs": [
        {
          "output_type": "execute_result",
          "data": {
            "text/plain": [
              "False"
            ]
          },
          "metadata": {},
          "execution_count": 99
        }
      ]
    },
    {
      "cell_type": "code",
      "source": [
        "num = '214n'\n",
        "num.isalnum()"
      ],
      "metadata": {
        "colab": {
          "base_uri": "https://localhost:8080/"
        },
        "id": "P_A6r7Suxo34",
        "outputId": "0f6bd1e5-db81-4d8b-b4de-7a1da584637a"
      },
      "execution_count": null,
      "outputs": [
        {
          "output_type": "execute_result",
          "data": {
            "text/plain": [
              "True"
            ]
          },
          "metadata": {},
          "execution_count": 100
        }
      ]
    },
    {
      "cell_type": "markdown",
      "source": [
        "método count: retorna a quantidade de ocorrências da string passada como argumento"
      ],
      "metadata": {
        "id": "LRjUktqxyRhi"
      }
    },
    {
      "cell_type": "code",
      "source": [
        "word.count(\"ni\")"
      ],
      "metadata": {
        "colab": {
          "base_uri": "https://localhost:8080/"
        },
        "id": "6zQwsvACxwE3",
        "outputId": "9c0c312c-fbee-46f9-bdd7-91926f3d31a3"
      },
      "execution_count": null,
      "outputs": [
        {
          "output_type": "execute_result",
          "data": {
            "text/plain": [
              "2"
            ]
          },
          "metadata": {},
          "execution_count": 103
        }
      ]
    },
    {
      "cell_type": "markdown",
      "source": [
        "método find: encontra a primeira ocorrencia da string passada como argumento na string original e retorna sua posição"
      ],
      "metadata": {
        "id": "lUcWUCK_ynjF"
      }
    },
    {
      "cell_type": "code",
      "source": [
        "word.find(\"ni\")"
      ],
      "metadata": {
        "colab": {
          "base_uri": "https://localhost:8080/"
        },
        "id": "pjhygPfbyjDE",
        "outputId": "7e927842-24f9-4f06-cb63-1638cd4553f4"
      },
      "execution_count": null,
      "outputs": [
        {
          "output_type": "execute_result",
          "data": {
            "text/plain": [
              "5"
            ]
          },
          "metadata": {},
          "execution_count": 104
        }
      ]
    },
    {
      "cell_type": "markdown",
      "source": [
        "Exercício: fazer a função nossaString, que converte de inteiro para string:\n",
        "\n",
        "- operador \"+\" para concatenação\n",
        "- método das divisões sucessivas (divisor 10) e a função chr() "
      ],
      "metadata": {
        "id": "qdCgh-I7y01K"
      }
    },
    {
      "cell_type": "code",
      "source": [
        "chr(49)"
      ],
      "metadata": {
        "colab": {
          "base_uri": "https://localhost:8080/",
          "height": 35
        },
        "id": "zf3_-RrzzB_V",
        "outputId": "0b1723dc-1dd4-403f-f8fc-c22cfeda5c31"
      },
      "execution_count": null,
      "outputs": [
        {
          "output_type": "execute_result",
          "data": {
            "text/plain": [
              "'1'"
            ],
            "application/vnd.google.colaboratory.intrinsic+json": {
              "type": "string"
            }
          },
          "metadata": {},
          "execution_count": 106
        }
      ]
    }
  ]
}